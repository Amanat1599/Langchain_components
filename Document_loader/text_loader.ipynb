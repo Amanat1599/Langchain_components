{
 "cells": [
  {
   "cell_type": "code",
   "execution_count": 3,
   "id": "01505306",
   "metadata": {},
   "outputs": [],
   "source": [
    "from langchain_community.document_loaders import TextLoader"
   ]
  },
  {
   "cell_type": "code",
   "execution_count": 6,
   "id": "75b8b16b",
   "metadata": {},
   "outputs": [],
   "source": [
    "loader = TextLoader(\"cricket.txt\",encoding=\"utf-8\")"
   ]
  },
  {
   "cell_type": "code",
   "execution_count": 8,
   "id": "5cca669f",
   "metadata": {},
   "outputs": [],
   "source": [
    "docs = loader.load()"
   ]
  },
  {
   "cell_type": "code",
   "execution_count": 11,
   "id": "73843b45",
   "metadata": {},
   "outputs": [
    {
     "data": {
      "text/plain": [
       "{'source': 'cricket.txt'}"
      ]
     },
     "execution_count": 11,
     "metadata": {},
     "output_type": "execute_result"
    }
   ],
   "source": [
    "docs[0].metadata"
   ]
  },
  {
   "cell_type": "code",
   "execution_count": 13,
   "id": "ece983fd",
   "metadata": {},
   "outputs": [
    {
     "data": {
      "text/plain": [
       "'Beneath the sun or floodlight\\'s gleam,\\n\\nCricket lives like a waking dream.\\n\\nA field of green, a willowed sound,\\n\\nWhere legends rise and tales are found.\\n\\nFrom dusty lanes where barefoot boys,\\n\\nChase every run with shrieks of joy,\\n\\nTo packed arenas roaring loud,\\n\\nThe game unites a global crowd.\\n\\nA coin is tossed, the captains stare,\\n\\nAs tension thickens in the air.\\n\\nBat or bowl? A choice so bold,\\n\\nA story new begins, retold.\\n\\nThe openers walk, calm yet brave,\\n\\nEach stride a wave upon the wave.\\n\\nThey face the ball with narrowed eyes,\\n\\nAs silence grips the watching skies.\\n\\nThe bowler runs, a rhythmic beat,\\n\\nLike thunder galloping on feet.\\n\\nA leather flash, a wooden crack—\\n\\nThe ball takes flight, then tumbles back.\\n\\nA flick through square, a drive through mid,\\n\\nA lofted shot the fielder missed.\\n\\nA single, double, sprint for three,\\n\\nThe crowd erupts in ecstasy.\\n\\nBut not for long—the trap is set,\\n\\nThe spinner loops, the pitch is wet.\\n\\nA sudden turn, the bat’s deceived,\\n\\nAnd timber flies like falling leaves.\\n\\nA hush, then cheers, then high-fives loud,\\n\\nThe bowler roars, his head unbowed.\\n\\nThe batter walks with heavy tread,\\n\\nA tale of glory left unsaid.\\n\\nThe umpire stands with stoic grace,\\n\\nA calm amidst the frantic pace.\\n\\nOne finger raised, a moment still,\\n\\nA gesture sharp, a silent thrill.\\n\\nThe scoreboard ticks like beating hearts,\\n\\nAs partnerships rise, and fall apart.\\n\\nSome play with flair, with sweep and pull,\\n\\nSome stand like walls, immovable.\\n\\nThe captain thinks, adjusts the field,\\n\\nA chessboard mind on grassy shield.\\n\\nEach gap, a trap; each move, a game,\\n\\nWith every ball, a shift in flame.\\n\\nMid-on, mid-off, and gully tight,\\n\\nFine leg runs in from left to right.\\n\\nThe slips await with eager hands,\\n\\nFor nicks that destiny commands.\\n\\nA hundred scored, the helmet raised,\\n\\nA warrior bathed in roaring praise.\\n\\nThe team applauds, the crowd goes wild,\\n\\nFor every run, each dive, each mile.\\n\\nAnd in the stands, the flags wave high,\\n\\nBeneath the blue and open sky.\\n\\nThe drums, the chants, the painted face,\\n\\nAll speak of cricket’s grand embrace.\\n\\nThe drinks break comes, a moment brief,\\n\\nTo wipe off sweat, to find relief.\\n\\nCoaches mumble with advice,\\n\\n“Play the line, and check your slice.”\\n\\nThen battle calls, the bowler steams,\\n\\nA yorker crushes batting dreams.\\n\\nThe stumps are shattered, crowd aghast—\\n\\nA flash of fire, fierce and fast.\\n\\nThe tail-enders, with nerves of steel,\\n\\nTry holding firm with stubborn zeal.\\n\\nA scoop, a nudge, a lucky edge,\\n\\nOne dances on the boundary’s edge.\\n\\nThe innings end, a total made,\\n\\nThe sun begins to softly fade.\\n\\nNow comes the turn of those who bowl,\\n\\nWith eyes on wickets, not the goal.\\n\\nThe new ball shines, the fielders crouch,\\n\\nThe keeper’s ready to pounce and pouch.\\n\\nA thud on pad, a cry for \"out!\"\\n\\nThe umpire shakes his head, no doubt.\\n\\nThe bowler sighs, returns to mark,\\n\\nHis eyes like embers in the dark.\\n\\nAnother try, a perfect seam,\\n\\nThe batsman jumps, mid-pitch between.\\n\\nA mix of patience, flair, and fight,\\n\\nOf brave defense and blazing might.\\n\\nA battle not of brute alone,\\n\\nBut mind and heart and muscle-bone.\\n\\nThen comes the dew, the lights go on,\\n\\nThe night arrives, but play goes on.\\n\\nThe white ball glows like moon in flight,\\n\\nThe shadows stretch into the night.\\n\\nA catch at point—what reflex sharp!\\n\\nA dive, a slide, the stumps go spark!\\n\\nThe DRS, the screen, review,\\n\\nTechnology joins cricket too.\\n\\nThe required run rate climbs like flame,\\n\\nThe chasing team must up its game.\\n\\nA six, a four, the gap now close,\\n\\nThe fans can\\'t breathe, the players know.\\n\\nLast over now, the thrill is peak,\\n\\nTen runs to win, the knees grow weak.\\n\\nA dot ball here, a boundary there,\\n\\nA fielder dives through heavy air.\\n\\nThe penultimate ball, two runs remain,\\n\\nThe stadium’s loud like roaring train.\\n\\nA single taken, now it\\'s tight,\\n\\nOne ball, one run, a final fight.\\n\\nThe bowler wipes his brow and dreams,\\n\\nThe batter tugs his jersey seams.\\n\\nThe field is drawn, the crowd is still,\\n\\nThis last delivery seals the thrill.\\n\\nHe runs, he bowls—a slower pace,\\n\\nThe batter swings, a bold embrace.\\n\\nThe ball soars high, the fielder sprints,\\n\\nA moment packed with a thousand hints.\\n\\nHands stretch out—did he catch or drop?\\n\\nThe hearts, they skip, the breaths, they stop.\\n\\nThen up it goes—the finger, clear!\\n\\nA win! A loss! A falling tear.\\n\\nThe players shake their hands and smile,\\n\\nFor sport is more than just the file.\\n\\nIt’s moments shared, a soul, a song,\\n\\nWhere win or loss, we all belong.\\n\\nAnd far away, where children play,\\n\\nOn muddy ground at end of day,\\n\\nWith plastic bat and rubber ball,\\n\\nThe spirit lives—it beats in all.\\n\\nThe crack of bat, the shout, the chase,\\n\\nThe joy of runs, the fall from grace.\\n\\nFrom Gavaskar to Sachin’s prime,\\n\\nFrom Lara’s flair to Root’s fine line.\\n\\nFrom Kohli’s fire to Dhoni’s calm,\\n\\nFrom Babar’s class to Bumrah’s charm.\\n\\nFrom Muralitharan\\'s magic spin,\\n\\nTo Wasim’s swing and Afridi’s grin.\\n\\nFrom war to peace, from crowd to soul,\\n\\nCricket binds, it makes us whole.\\n\\nA story long, with chapters vast,\\n\\nFrom village fields to Lords\\' rich past.\\n\\nIt\\'s more than just a sport or show,\\n\\nIt’s what we cheer, and feel, and know.\\n\\nA bowler\\'s spell, a batter\\'s stance,\\n\\nEach moment gives our hearts a chance.\\n\\nAnd though formats may rise or fall—\\n\\nT20 quick, or Tests that sprawl—\\n\\nThe heart remains the same inside,\\n\\nA game of honor, grit, and pride.\\n\\nFor every match, a tale unfurled,\\n\\nOf battlefields in cricket’s world.\\n\\nThe whites, the blues, the fiery red,\\n\\nThe crests of dreams, where hope is fed.\\n\\nFrom Eden Gardens\\' mighty cheers,\\n\\nTo MCG through all the years,\\n\\nFrom gully rules to county games,\\n\\nCricket sings in varied names.\\n\\nA thousand chants, a billion eyes,\\n\\nEach moment under azure skies.\\n\\nIt\\'s not just sport, it’s blood and lore,\\n\\nOf heartbreak, thrill, and something more.\\n\\nA father watching with his son,\\n\\nA daughter dreaming of a run.\\n\\nA granny cheering loud and proud,\\n\\nA youth who stands out from the crowd.\\n\\nFor every nation, every creed,\\n\\nThis game ignites a common need.\\n\\nTo cheer, to strive, to rise once more,\\n\\nTo chase the line, defend the score.\\n\\nA drop of sweat, a breath held tight,\\n\\nA day of sun, a game of light.\\n\\nThe team, the pride, the nation\\'s hope,\\n\\nThe ball, the bat, the stumps, the slope.\\n\\nA world where sportsmanship is king,\\n\\nWhere pride and passion always cling.\\n\\nA match may end, the crowd may leave,\\n\\nBut memories stay and never grieve.\\n\\nThe smell of grass, the shout of \"Howzat!\"\\n\\nThe slip’s sharp catch, the keeper’s chat.\\n\\nThe final cheer, the anthem sung,\\n\\nThe dreams of old, the dreams of young.\\n\\nAnd so we play, we watch, we cheer,\\n\\nFor every loss, and win so dear.\\n\\nThe spirit strong, the game alive,\\n\\nWhere heart and soul forever thrive.\\n\\nFor cricket is not just a sport—\\n\\nIt’s where our fondest dreams cavort.\\n\\nA tale of glory, guts, and grace,\\n\\nA timeless game no time can chase.\\n\\nFrom past to now, from now to then,\\n\\nIt turns us boys and girls to men.\\n\\nWith willow, ball, and silent prayer,\\n\\nWe write our stories in the air.\\n\\nAnd as the final ball is bowled,\\n\\nAnd tales of glory, once more, told,\\n\\nThe love remains, forever set,\\n\\nFor cricket\\'s magic—never forget.\\n\\nSo here’s to games yet still to play,\\n\\nTo dawn-lit fields and end-of-day.\\n\\nTo every roar, and silent beat—\\n\\nTo cricket’s heart, so pure, so sweet.\\n\\nA gift, a flame, a timeless thread,\\n\\nThat lives as long as it is said:\\n\\n“Let’s play a match, just you and me…”\\n\\nAnd cricket lives, eternally.'"
      ]
     },
     "execution_count": 13,
     "metadata": {},
     "output_type": "execute_result"
    }
   ],
   "source": [
    "docs[0].page_content"
   ]
  },
  {
   "cell_type": "code",
   "execution_count": null,
   "id": "45bffedf",
   "metadata": {},
   "outputs": [],
   "source": []
  }
 ],
 "metadata": {
  "kernelspec": {
   "display_name": "venv",
   "language": "python",
   "name": "python3"
  },
  "language_info": {
   "codemirror_mode": {
    "name": "ipython",
    "version": 3
   },
   "file_extension": ".py",
   "mimetype": "text/x-python",
   "name": "python",
   "nbconvert_exporter": "python",
   "pygments_lexer": "ipython3",
   "version": "3.11.4"
  }
 },
 "nbformat": 4,
 "nbformat_minor": 5
}
