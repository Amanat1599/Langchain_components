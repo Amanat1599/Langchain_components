{
 "cells": [
  {
   "cell_type": "code",
   "execution_count": 1,
   "id": "4006d156",
   "metadata": {},
   "outputs": [
    {
     "data": {
      "text/plain": [
       "False"
      ]
     },
     "execution_count": 1,
     "metadata": {},
     "output_type": "execute_result"
    }
   ],
   "source": [
    "from langchain_huggingface import ChatHuggingFace,HuggingFacePipeline\n",
    "\n",
    "from langchain_core.messages import SystemMessage,HumanMessage,AIMessage\n",
    "from dotenv import load_dotenv\n",
    "from langchain_core.prompts import PromptTemplate\n",
    "load_dotenv()"
   ]
  },
  {
   "cell_type": "code",
   "execution_count": 2,
   "id": "01f80ff9",
   "metadata": {},
   "outputs": [
    {
     "name": "stderr",
     "output_type": "stream",
     "text": [
      "d:\\Langchain_prompts\\venv\\Lib\\site-packages\\tqdm\\auto.py:21: TqdmWarning: IProgress not found. Please update jupyter and ipywidgets. See https://ipywidgets.readthedocs.io/en/stable/user_install.html\n",
      "  from .autonotebook import tqdm as notebook_tqdm\n",
      "Device set to use cpu\n"
     ]
    }
   ],
   "source": [
    "llm_local = HuggingFacePipeline.from_model_id(  \n",
    "model_id=\"TinyLlama/TinyLlama-1.1B-Chat-v1.0\",  \n",
    "task=\"text-generation\",  \n",
    ")\n",
    "model = ChatHuggingFace(llm=llm_local)"
   ]
  },
  {
   "cell_type": "code",
   "execution_count": 3,
   "id": "0ba688cd",
   "metadata": {},
   "outputs": [],
   "source": [
    "messages =[\n",
    "    SystemMessage(content=\"You are a senior doctor\"),\n",
    "    HumanMessage(content=\"Please provide treatment regarding skin disease\")\n",
    "]"
   ]
  },
  {
   "cell_type": "code",
   "execution_count": 4,
   "id": "4b8b3edb",
   "metadata": {},
   "outputs": [
    {
     "name": "stdout",
     "output_type": "stream",
     "text": [
      "[SystemMessage(content='You are a senior doctor', additional_kwargs={}, response_metadata={}), HumanMessage(content='Please provide treatment regarding skin disease', additional_kwargs={}, response_metadata={}), AIMessage(content=\"<|system|>\\nYou are a senior doctor</s>\\n<|user|>\\nPlease provide treatment regarding skin disease</s>\\n<|assistant|>\\nSkin disease is a common condition that affects the skin, hair, and nails. Treatment for skin disease depends on the type and severity of the condition. Here are some treatment options:\\n\\n1. Topical treatments: Topical treatments are applied directly to the affected area to reduce inflammation, itching, and pain. Some common topical treatments include:\\n\\n- Antibiotics: Antibiotics can be used to treat bacterial infections, such as impetigo, impetigo, and impetigo.\\n- Antifungals: Antifungals can be used to treat fungal infections, such as athlete's foot and ringworm.\\n- Topical corticosteroids: Topical corticosteroids can be used to reduce inflammation and itching.\\n- Antiseptics: Antiseptics can be used to reduce the growth of bacteria and fungi.\\n\\n2. Oral medications: Oral medications can be used to treat skin diseases such as psoriasis, eczema, and acne. Some common oral medications include:\\n\\n- Antimalarials: Antimalarials can be used to treat malaria.\\n- Antibiotics: Antibiotics can be used to treat bacterial infections, such as impetigo, impetigo, and impetigo.\\n- Antifungals: Antifungals can be used to treat fungal infections, such as athlete's foot and ringworm.\\n- Topical antibiotics: Topical antibiotics can be used to treat bacterial infections, such as impetigo, impetigo, and impetigo.\\n\\n3. Laser therapy: Laser therapy can be used to treat skin diseases such as psoriasis, eczema, and acne. Laser therapy uses high-energy light to stimulate the production of collagen and reduce inflammation.\\n\\n4. Surgical procedures: Surgical procedures such as excision, excision, and excision can be used to treat skin diseases such as psoriasis, eczema, and acne.\\n\\nIt is essential to consult with a healthcare professional before starting any treatment to ensure the correct treatment is chosen for your specific condition.\", additional_kwargs={}, response_metadata={})]\n"
     ]
    }
   ],
   "source": [
    "out= model.invoke(messages)\n",
    "messages.append(AIMessage(content=out.content))\n",
    "print(messages)"
   ]
  },
  {
   "cell_type": "code",
   "execution_count": null,
   "id": "d08e3a3b",
   "metadata": {},
   "outputs": [],
   "source": []
  }
 ],
 "metadata": {
  "kernelspec": {
   "display_name": "venv",
   "language": "python",
   "name": "python3"
  },
  "language_info": {
   "codemirror_mode": {
    "name": "ipython",
    "version": 3
   },
   "file_extension": ".py",
   "mimetype": "text/x-python",
   "name": "python",
   "nbconvert_exporter": "python",
   "pygments_lexer": "ipython3",
   "version": "3.11.4"
  }
 },
 "nbformat": 4,
 "nbformat_minor": 5
}
